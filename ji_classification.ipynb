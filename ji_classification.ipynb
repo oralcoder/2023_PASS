{
 "cells": [
  {
   "cell_type": "code",
   "execution_count": 1,
   "id": "452e7839",
   "metadata": {},
   "outputs": [],
   "source": [
    "import jetson_inference\n",
    "import jetson_utils\n",
    "import cv2"
   ]
  },
  {
   "cell_type": "code",
   "execution_count": 3,
   "id": "b907c808",
   "metadata": {},
   "outputs": [],
   "source": [
    "net = jetson_inference.imageNet('googlenet')"
   ]
  },
  {
   "cell_type": "code",
   "execution_count": 5,
   "id": "ad6f63bc",
   "metadata": {},
   "outputs": [],
   "source": [
    "img = jetson_utils.loadImage('/home/aihub/works/images/polar_bear.jpg')"
   ]
  },
  {
   "cell_type": "code",
   "execution_count": 7,
   "id": "d0e8242e",
   "metadata": {},
   "outputs": [
    {
     "name": "stdout",
     "output_type": "stream",
     "text": [
      "(565, 563, 3) <class 'jetson.utils.cudaImage'>\n"
     ]
    }
   ],
   "source": [
    "print(img.shape, type(img))"
   ]
  },
  {
   "cell_type": "code",
   "execution_count": null,
   "id": "c3d04718",
   "metadata": {},
   "outputs": [],
   "source": [
    "class_idx, confidence = net.Classify(img)"
   ]
  },
  {
   "cell_type": "code",
   "execution_count": 9,
   "id": "172855a2",
   "metadata": {},
   "outputs": [
    {
     "name": "stdout",
     "output_type": "stream",
     "text": [
      "296 ice bear, polar bear, Ursus Maritimus, Thalarctos maritimus 1.0\n"
     ]
    }
   ],
   "source": [
    "class_desc = net.GetClassDesc(class_idx)\n",
    "print(class_idx, class_desc, confidence)"
   ]
  },
  {
   "cell_type": "code",
   "execution_count": 26,
   "id": "7cd45944",
   "metadata": {},
   "outputs": [],
   "source": [
    "label = class_desc.split(',')[0]"
   ]
  },
  {
   "cell_type": "code",
   "execution_count": 27,
   "id": "984d4205",
   "metadata": {},
   "outputs": [],
   "source": [
    "cv2Img = jetson_utils.cudaToNumpy(img)\n",
    "cv2Img = cv2.cvtColor(cv2Img, cv2.COLOR_RGB2BGR)"
   ]
  },
  {
   "cell_type": "code",
   "execution_count": 28,
   "id": "a39fcad8",
   "metadata": {},
   "outputs": [
    {
     "data": {
      "text/plain": [
       "array([[[232, 218, 212],\n",
       "        [233, 219, 213],\n",
       "        [236, 222, 216],\n",
       "        ..., \n",
       "        [226, 210, 203],\n",
       "        [222, 206, 199],\n",
       "        [224, 208, 201]],\n",
       "\n",
       "       [[232, 218, 212],\n",
       "        [231, 217, 211],\n",
       "        [228, 214, 208],\n",
       "        ..., \n",
       "        [228, 212, 205],\n",
       "        [224, 208, 201],\n",
       "        [224, 208, 201]],\n",
       "\n",
       "       [[230, 216, 210],\n",
       "        [237, 223, 217],\n",
       "        [233, 219, 213],\n",
       "        ..., \n",
       "        [229, 213, 206],\n",
       "        [225, 209, 202],\n",
       "        [225, 209, 202]],\n",
       "\n",
       "       ..., \n",
       "       [[228, 212, 206],\n",
       "        [230, 214, 208],\n",
       "        [222, 206, 200],\n",
       "        ..., \n",
       "        [229, 214, 212],\n",
       "        [233, 218, 215],\n",
       "        [228, 213, 210]],\n",
       "\n",
       "       [[227, 211, 205],\n",
       "        [229, 213, 207],\n",
       "        [229, 213, 207],\n",
       "        ..., \n",
       "        [233, 218, 216],\n",
       "        [236, 221, 218],\n",
       "        [225, 210, 207]],\n",
       "\n",
       "       [[230, 214, 208],\n",
       "        [227, 211, 205],\n",
       "        [227, 211, 205],\n",
       "        ..., \n",
       "        [228, 213, 211],\n",
       "        [231, 216, 213],\n",
       "        [222, 207, 204]]], dtype=uint8)"
      ]
     },
     "execution_count": 28,
     "metadata": {},
     "output_type": "execute_result"
    }
   ],
   "source": [
    "cv2.putText(cv2Img, label+str(confidence), (10,30), cv2.FONT_HERSHEY_DUPLEX, 1, (255,255,255) )"
   ]
  },
  {
   "cell_type": "code",
   "execution_count": 29,
   "id": "899b14ca",
   "metadata": {},
   "outputs": [],
   "source": [
    "cv2.imshow('img', cv2Img)\n",
    "cv2.waitKey(0)\n",
    "cv2.destroyAllWindows()"
   ]
  }
 ],
 "metadata": {
  "kernelspec": {
   "display_name": "Python 3",
   "language": "python",
   "name": "python3"
  },
  "language_info": {
   "codemirror_mode": {
    "name": "ipython",
    "version": 3
   },
   "file_extension": ".py",
   "mimetype": "text/x-python",
   "name": "python",
   "nbconvert_exporter": "python",
   "pygments_lexer": "ipython3",
   "version": "3.6.9"
  }
 },
 "nbformat": 4,
 "nbformat_minor": 5
}
